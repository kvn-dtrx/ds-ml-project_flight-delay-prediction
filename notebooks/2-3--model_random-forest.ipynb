{
 "cells": [
  {
   "cell_type": "markdown",
   "id": "7991f518",
   "metadata": {},
   "source": [
    "# Delay Modelling with Random Forests"
   ]
  },
  {
   "cell_type": "code",
   "execution_count": null,
   "id": "41e20b49",
   "metadata": {},
   "outputs": [],
   "source": [
    "import pandas as pd\n",
    "import numpy as np\n",
    "\n",
    "from sklearn.model_selection import train_test_split\n",
    "from sklearn.model_selection import GridSearchCV\n",
    "from sklearn.ensemble import RandomForestRegressor\n",
    "from sklearn.linear_model import LinearRegression\n",
    "from sklearn.metrics import mean_squared_error\n",
    "from sklearn.metrics import r2_score\n",
    "\n",
    "from local_nbutils import CFG"
   ]
  },
  {
   "cell_type": "code",
   "execution_count": null,
   "id": "72a3c418",
   "metadata": {},
   "outputs": [],
   "source": [
    "df = pd.read_pickle(CFG[\"PROCESSED_DATA_PATH\"])"
   ]
  },
  {
   "cell_type": "code",
   "execution_count": null,
   "id": "30af317e",
   "metadata": {},
   "outputs": [],
   "source": [
    "df2 = pd.get_dummies(\n",
    "    df, columns=[\"DATOP_day\"], prefix=\"day\", drop_first=True, dtype=int\n",
    ")\n",
    "df2 = pd.get_dummies(\n",
    "    df2, columns=[\"DATOP_year\"], prefix=\"yr\", drop_first=True, dtype=int\n",
    ")\n",
    "df2 = pd.get_dummies(\n",
    "    df2, columns=[\"DATOP_month\"], prefix=\"mon\", drop_first=True, dtype=int\n",
    ")\n",
    "df2 = pd.get_dummies(df2, columns=[\"DEPSTN\"], prefix=\"dep\", drop_first=True, dtype=int)\n",
    "df2 = pd.get_dummies(df2, columns=[\"ARRSTN\"], prefix=\"arr\", drop_first=True, dtype=int)\n",
    "df2 = pd.get_dummies(df2, columns=[\"AC\"], prefix=\"ac\", drop_first=True, dtype=int)\n",
    "df2 = pd.get_dummies(\n",
    "    df2, columns=[\"STD_period\"], prefix=\"std\", drop_first=True, dtype=int\n",
    ")\n",
    "# df2 = pd.get_dummies(\n",
    "#     df2, columns=[\"STA_period\"], prefix=\"sta\", drop_first=True, dtype=int\n",
    "# )"
   ]
  },
  {
   "cell_type": "code",
   "execution_count": null,
   "id": "58fdc923",
   "metadata": {},
   "outputs": [],
   "source": [
    "y = df2.target\n",
    "X = df2.drop(\"target\", axis=1)\n",
    "\n",
    "X_train, X_test, y_train, y_test = train_test_split(\n",
    "    X, y, test_size=0.25, random_state=CFG[\"RSEED\"]\n",
    ")"
   ]
  },
  {
   "cell_type": "code",
   "execution_count": null,
   "id": "ca1eb27f",
   "metadata": {},
   "outputs": [],
   "source": [
    "prefixes = [\"day_\", \"yr_\", \"mt_\", \"ac_\", \"dep_\", \"arr_\", \"std_\", \"sta_\"]\n",
    "\n",
    "# Collect columns that match those prefixes\n",
    "feature_cols = [\n",
    "    col for col in df2.columns if any(col.startswith(p) for p in prefixes)\n",
    "] + [\"flight_time\"]\n",
    "\n",
    "x0 = X_train[feature_cols]\n",
    "x1 = X_test[feature_cols]\n",
    "\n",
    "\n",
    "model = LinearRegression()\n",
    "# model = KNeighborsRegressor(n_neighbors=5)\n",
    "\n",
    "model.fit(x0, y_train)\n",
    "y_pred_test = model.predict(x1)\n",
    "\n",
    "print(np.sqrt(mean_squared_error(y_test, y_pred_test)))\n",
    "print(r2_score(y_test, y_pred_test))"
   ]
  },
  {
   "cell_type": "code",
   "execution_count": null,
   "id": "5879a8fc",
   "metadata": {},
   "outputs": [],
   "source": [
    "# Define the model\n",
    "model = RandomForestRegressor(random_state=42)\n",
    "\n",
    "# Define the hyperparameter grid\n",
    "param_grid = {\n",
    "    \"n_estimators\": [100],\n",
    "    # \"max_depth\": [20, 30],\n",
    "    # \"min_samples_split\": [5, 10],\n",
    "    # \"min_samples_leaf\": [2, 5],\n",
    "    # \"max_features\": [\"auto\", \"sqrt\"],\n",
    "}\n",
    "\n",
    "# Create GridSearchCV\n",
    "grid_search = GridSearchCV(\n",
    "    estimator=model,\n",
    "    param_grid=param_grid,\n",
    "    cv=5,  # 5-fold cross-validation\n",
    "    scoring=\"neg_mean_squared_error\",  # or use 'r2' if you prefer\n",
    "    n_jobs=-1,  # Use all available cores\n",
    "    verbose=2,\n",
    ")\n",
    "\n",
    "# Fit the grid search to the data\n",
    "grid_search.fit(x0, y_train)\n",
    "\n",
    "# Best model\n",
    "best_model = grid_search.best_estimator_\n",
    "\n",
    "# Predict on test data\n",
    "y_pred_test = best_model.predict(x1)\n",
    "\n",
    "# Evaluate\n",
    "print(\"Best Parameters:\", grid_search.best_params_)\n",
    "print(\"RMSE:\", np.sqrt(mean_squared_error(y_test, y_pred_test)))\n",
    "print(\"R²:\", r2_score(y_test, y_pred_test))"
   ]
  }
 ],
 "metadata": {
  "kernelspec": {
   "display_name": ".venv",
   "language": "python",
   "name": "python3"
  },
  "language_info": {
   "codemirror_mode": {
    "name": "ipython",
    "version": 3
   },
   "file_extension": ".py",
   "mimetype": "text/x-python",
   "name": "python",
   "nbconvert_exporter": "python",
   "pygments_lexer": "ipython3",
   "version": "3.11.3"
  }
 },
 "nbformat": 4,
 "nbformat_minor": 5
}
