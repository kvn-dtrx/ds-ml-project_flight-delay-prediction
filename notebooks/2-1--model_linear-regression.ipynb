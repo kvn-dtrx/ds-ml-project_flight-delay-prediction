{
 "cells": [
  {
   "cell_type": "markdown",
   "id": "b68cdaca",
   "metadata": {},
   "source": [
    "# Delay Modelling with Linear Regression\n",
    "\n",
    "We aim to predict the flight delay from a single feature such as the weekday or the aircraft code.\n",
    "\n",
    "The following libraries are required:"
   ]
  },
  {
   "cell_type": "code",
   "execution_count": null,
   "id": "6dd5014d",
   "metadata": {},
   "outputs": [],
   "source": [
    "import pandas as pd\n",
    "import numpy as np\n",
    "\n",
    "from sklearn.model_selection import train_test_split\n",
    "from sklearn.linear_model import LinearRegression\n",
    "from sklearn.metrics import mean_squared_error\n",
    "from sklearn.metrics import r2_score\n",
    "from sklearn.metrics import mean_absolute_percentage_error\n",
    "\n",
    "import matplotlib.pyplot as plt\n",
    "import seaborn as sns\n",
    "\n",
    "from local_nbutils import CFG, plt_savefig"
   ]
  },
  {
   "cell_type": "markdown",
   "id": "3ed10f7c",
   "metadata": {},
   "source": [
    "We load the processed data from disk:"
   ]
  },
  {
   "cell_type": "code",
   "execution_count": null,
   "id": "407afd87",
   "metadata": {},
   "outputs": [],
   "source": [
    "df = pd.read_pickle(CFG[\"PROCESSED_DATA_PATH\"])"
   ]
  },
  {
   "cell_type": "markdown",
   "id": "863a9226",
   "metadata": {},
   "source": [
    "We set up and fit a **linear regression** model that using the weekday as sole covariate."
   ]
  },
  {
   "cell_type": "code",
   "execution_count": null,
   "id": "da5cf693",
   "metadata": {},
   "outputs": [],
   "source": [
    "col = \"DATOP_day\"\n",
    "# col = \"AC\"\n",
    "\n",
    "df_encoded = pd.get_dummies(df, columns=[col], prefix=col)\n",
    "\n",
    "y = df.target\n",
    "X = df_encoded.drop(\"target\", axis=1)\n",
    "\n",
    "X_train, X_test, y_train, y_test = train_test_split(\n",
    "    X, y, test_size=0.25, random_state=CFG[\"RSEED\"]\n",
    ")\n",
    "\n",
    "cols = [col_ for col_ in df_encoded.columns if col_.startswith(f\"{col}_\")]\n",
    "\n",
    "X_train_red = X_train[cols]\n",
    "X_test_red = X_test[cols]\n",
    "\n",
    "model = LinearRegression()\n",
    "\n",
    "model.fit(X_train_red, y_train)\n",
    "\n",
    "print(\"Fitted parameters:\")\n",
    "print(\"  Coefficients:\", model.coef_)\n",
    "print(\"  Intercept:   \", model.intercept_)"
   ]
  },
  {
   "cell_type": "markdown",
   "id": "9dbff587",
   "metadata": {},
   "source": [
    "To analyse the prediction errors of this model, we plot the actual values against the predicted values for the test set:"
   ]
  },
  {
   "cell_type": "code",
   "execution_count": null,
   "id": "08b6fe1f",
   "metadata": {},
   "outputs": [],
   "source": [
    "y_pred = model.predict(X_test_red)\n",
    "\n",
    "mse = mean_squared_error(y_test, y_pred)\n",
    "rmse = np.sqrt(mse)\n",
    "r2 = r2_score(y_test, y_pred)\n",
    "mape = mean_absolute_percentage_error(y_test, y_pred)\n",
    "\n",
    "print(\"RMSE      :\", rmse)\n",
    "print(\"R_2       :\", r2)\n",
    "print(\"MAP Error :\", mape)\n",
    "\n",
    "t = 1000\n",
    "\n",
    "# # Calculate residuals\n",
    "# residuals = y_test - y_pred\n",
    "\n",
    "# Plot residuals\n",
    "plt.figure(figsize=(8, 6))\n",
    "sns.scatterplot(x=y_test, y=y_pred)\n",
    "plt.plot([0, t], [0, t], color='red', linestyle='--')\n",
    "plt.xlabel(\"Actual Values\")\n",
    "plt.ylabel(\"Predicted Values\")\n",
    "plt.xlim(0, 3000)\n",
    "plt.title(\"Residuals Plot\")\n",
    "plt_savefig(\"lin-reg_actual-vs-predicted_dist\")\n",
    "plt.show()"
   ]
  }
 ],
 "metadata": {
  "kernelspec": {
   "display_name": ".venv",
   "language": "python",
   "name": "python3"
  },
  "language_info": {
   "codemirror_mode": {
    "name": "ipython",
    "version": 3
   },
   "file_extension": ".py",
   "mimetype": "text/x-python",
   "name": "python",
   "nbconvert_exporter": "python",
   "pygments_lexer": "ipython3",
   "version": "3.11.3"
  }
 },
 "nbformat": 4,
 "nbformat_minor": 5
}
