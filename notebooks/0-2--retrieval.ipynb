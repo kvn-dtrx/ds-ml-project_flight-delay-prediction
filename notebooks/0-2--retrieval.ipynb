{
 "cells": [
  {
   "cell_type": "markdown",
   "id": "ca87637c",
   "metadata": {},
   "source": [
    "# Retrieval\n",
    "\n",
    "In this file, we discuss the retrievability of the data which are required for our analysis. If possible in a scriptable way, we also provide the Python code to download the data. \n",
    "\n",
    "We need the following modules:"
   ]
  },
  {
   "cell_type": "code",
   "execution_count": null,
   "id": "ba300a55",
   "metadata": {},
   "outputs": [],
   "source": [
    "import os\n",
    "import subprocess\n",
    "import shutil\n",
    "import requests\n",
    "import tempfile\n",
    "\n",
    "from local_nbutils import CFG"
   ]
  },
  {
   "cell_type": "markdown",
   "id": "17e67b91",
   "metadata": {},
   "source": [
    "## Flight Delay Data\n",
    "\n",
    "Contrary to e.g. [kaggle](https://www.kaggle.com), zindi provides no option to retrieve the data in a (Python-)scriptable way. Therefore, the fastest method to retrieve the data is downloading them manually from [here](https://zindi.africa/competitions/flight-delay-prediction-challenge/data) (an account is necessary). Among the three offered files, only `train.csv` is relevant to us. Please store this file at the location `CFG[\"TRAIN_DATA_PATH\"]`."
   ]
  },
  {
   "cell_type": "markdown",
   "id": "c239d785",
   "metadata": {},
   "source": [
    "## Airport Data\n",
    "\n",
    "In addition to the flight delay data, we will also need a \"dictionary\" to decode the airport identifiers. This dictionary provides further information on airports like geographic location, country and continent."
   ]
  },
  {
   "cell_type": "markdown",
   "id": "f3e80883",
   "metadata": {},
   "source": [
    "### HTTP Method\n",
    "\n",
    "Contrary to the zindi data, the airport data are available at may sites without subscription or authentication barriers and a download via HTTP is possible."
   ]
  },
  {
   "cell_type": "code",
   "execution_count": null,
   "id": "dc4c84f0",
   "metadata": {},
   "outputs": [],
   "source": [
    "# HTTP address of the (public) repository.\n",
    "HTTP_REPO_URL = \"https://github.com/davidmegginson/ourairports-data\"\n",
    "\n",
    "# Path of the csv file relative to the (remote) repository root.\n",
    "CSV_PATH_REL = \"airports.csv\"\n",
    "\n",
    "# Target path of the csv file on the local machine.\n",
    "AIRPORTS_DATA_PATH = CFG[\"AIRPORTS_DATA_PATH\"]\n",
    "\n",
    "# Full HTTP address of the csv file.\n",
    "http_url = f\"{HTTP_REPO_URL}/blob/main/{CSV_PATH_REL}\""
   ]
  },
  {
   "cell_type": "code",
   "execution_count": null,
   "id": "d46958ea",
   "metadata": {},
   "outputs": [],
   "source": [
    "response = requests.get(http_url)\n",
    "response.raise_for_status()\n",
    "\n",
    "with open(AIRPORTS_DATA_PATH, \"wb\") as f:\n",
    "    f.write(response.content)"
   ]
  },
  {
   "cell_type": "markdown",
   "id": "a9bbfb8e",
   "metadata": {},
   "source": [
    "### SSH Method\n",
    "\n",
    "Although the HTTP version suffices in our case, let us present, for reasons of completeness, also a SSH version that would be necessary if the csv file belongs to a repository where the client needs to provide appropriate credentials via SSH."
   ]
  },
  {
   "cell_type": "code",
   "execution_count": null,
   "id": "42eca0f6",
   "metadata": {},
   "outputs": [],
   "source": [
    "# SSH address of the (not necessarily public) repository.\n",
    "SSH_REPO_URL = \"git@github.com:davidmegginson/ourairports-data.git\"\n",
    "\n",
    "# Path of the csv file relative to the (remote) repository root.\n",
    "CSV_PATH_REL = \"airports.csv\"\n",
    "\n",
    "# Target path of the csv file on the local machine.\n",
    "AIRPORTS_DATA_PATH = CFG[\"AIRPORTS_DATA_PATH\"]\n",
    "\n",
    "# Full HTTP address of the csv file.\n",
    "http_url = f\"{HTTP_REPO_URL}/blob/main/{CSV_PATH_REL}\""
   ]
  },
  {
   "cell_type": "code",
   "execution_count": null,
   "id": "2a4479f7",
   "metadata": {},
   "outputs": [],
   "source": [
    "with tempfile.TemporaryDirectory() as tmpdir:\n",
    "    subprocess.run(\n",
    "        [\n",
    "            \"git\",\n",
    "            \"clone\",\n",
    "            # Clones shallowly.\n",
    "            \"--depth\",\n",
    "            \"1\",\n",
    "            # Skips blobs initially.\n",
    "            \"--filter=blob:none\",\n",
    "            # Enables sparse checkout mode.\n",
    "            \"--sparse\",\n",
    "            SSH_REPO_URL,\n",
    "            tmpdir,\n",
    "        ],\n",
    "        check=True,\n",
    "    )\n",
    "\n",
    "    subprocess.run(\n",
    "        [\n",
    "            \"git\",\n",
    "            \"-C\",\n",
    "            tmpdir,\n",
    "            # Initialises sparse checkout.\n",
    "            \"sparse-checkout\",\n",
    "            \"init\",\n",
    "        ],\n",
    "        check=True,\n",
    "    )\n",
    "\n",
    "    subprocess.run(\n",
    "        [\n",
    "            \"git\",\n",
    "            \"-C\",\n",
    "            tmpdir,\n",
    "            # Specifies which files to include in the sparse checkout.\n",
    "            \"sparse-checkout\",\n",
    "            \"set\",\n",
    "            CSV_PATH_REL,\n",
    "            # Relaxes the checks as sparse-checkout expects directories.\n",
    "            \"--skip-checks\",\n",
    "        ],\n",
    "        check=True,\n",
    "    )\n",
    "\n",
    "    src_file = os.path.join(tmpdir, CSV_PATH_REL)\n",
    "    shutil.copy2(src_file, AIRPORTS_DATA_PATH)"
   ]
  }
 ],
 "metadata": {
  "kernelspec": {
   "display_name": ".venv",
   "language": "python",
   "name": "python3"
  },
  "language_info": {
   "codemirror_mode": {
    "name": "ipython",
    "version": 3
   },
   "file_extension": ".py",
   "mimetype": "text/x-python",
   "name": "python",
   "nbconvert_exporter": "python",
   "pygments_lexer": "ipython3",
   "version": "3.11.3"
  }
 },
 "nbformat": 4,
 "nbformat_minor": 5
}
