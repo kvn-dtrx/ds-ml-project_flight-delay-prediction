{
 "cells": [
  {
   "cell_type": "markdown",
   "id": "142d7900",
   "metadata": {},
   "source": [
    "# EDA Experiments Grese"
   ]
  },
  {
   "cell_type": "markdown",
   "id": "1c827f70",
   "metadata": {},
   "source": [
    "## Requirements"
   ]
  },
  {
   "cell_type": "code",
   "execution_count": null,
   "id": "f394a5a7",
   "metadata": {},
   "outputs": [],
   "source": [
    "import pandas as pd\n",
    "\n",
    "import matplotlib.pyplot as plt\n",
    "import seaborn as sns\n",
    "\n",
    "from local_nbutils import CFG, plt_savefig"
   ]
  },
  {
   "cell_type": "code",
   "execution_count": null,
   "id": "8d5bc5c6",
   "metadata": {},
   "outputs": [],
   "source": [
    "df = pd.read_pickle(CFG[\"PROCESSED_DATA_PATH\"])"
   ]
  },
  {
   "cell_type": "code",
   "execution_count": null,
   "id": "9773e3c9",
   "metadata": {},
   "outputs": [],
   "source": [
    "# die Verteilung der Verspätungen unter Abluegen und Ankuenften\n",
    "# Durchschnittliche Verspätung pro Abflughafen\n",
    "dep_delay = df.groupby(\"DEPSTN\")[\"target\"].mean().sort_values(ascending=False)\n",
    "\n",
    "plt.figure(figsize=(12, 6))\n",
    "dep_delay.plot(kind=\"bar\", color=\"skyblue\")\n",
    "plt.title(\"Durchschnittliche Verspätung pro Abflughafen\")\n",
    "plt.xlabel(\"Abflughafen\")\n",
    "plt.ylabel(\"Durchschnittliche Verspätung (Minuten)\")\n",
    "plt.xticks(rotation=45)\n",
    "plt.tight_layout()\n",
    "plt_savefig(\"dep-to-avg-delay_hist\")\n",
    "plt.show()"
   ]
  },
  {
   "cell_type": "code",
   "execution_count": null,
   "id": "44bfefd5",
   "metadata": {},
   "outputs": [],
   "source": [
    "# Durchschnittliche Verspätung pro Ankunftsflughafen\n",
    "arr_delay = df.groupby(\"ARRSTN\")[\"target\"].mean().sort_values(ascending=False)\n",
    "\n",
    "plt.figure(figsize=(12, 6))\n",
    "arr_delay.plot(kind=\"bar\", color=\"salmon\")\n",
    "plt.title(\"Durchschnittliche Verspätung pro Ankunftsflughafen\")\n",
    "plt.xlabel(\"Ankunftsflughafen\")\n",
    "plt.ylabel(\"Durchschnittliche Verspätung (Minuten)\")\n",
    "plt.xticks(rotation=45)\n",
    "plt.tight_layout()\n",
    "plt_savefig(\"dest-to-avg-delay_hist\")\n",
    "plt.show()"
   ]
  },
  {
   "cell_type": "code",
   "execution_count": null,
   "id": "703046ca",
   "metadata": {},
   "outputs": [],
   "source": [
    "df_tmp = pd.DataFrame({\n",
    "    \"Departure Delay\": dep_delay,\n",
    "    \"Arrival Delay\": arr_delay\n",
    "})\n",
    "\n",
    "df_tmp.plot(kind=\"bar\", color=[\"skyblue\", \"salmon\"])\n",
    "\n",
    "plt.title(\"Mean Delay per Airport (DEP + ARR)\")\n",
    "plt.xlabel(\"Airport\")\n",
    "plt.ylabel(\"Mean Delay\")\n",
    "# plt.xticks(rotation=45)\n",
    "plt.xticks([], [])\n",
    "plt.tight_layout()\n",
    "plt_savefig(\"airport-to-avg-delay_hist\")"
   ]
  },
  {
   "cell_type": "code",
   "execution_count": null,
   "id": "17dd0091",
   "metadata": {},
   "outputs": [],
   "source": [
    "plt.figure(figsize=(14, 6))\n",
    "sns.boxplot(x=\"DEPSTN\", y=\"target\", data=df)\n",
    "plt.title(\"Verteilung der Verspätungen pro Abflughafen\")\n",
    "plt.xticks(rotation=45)\n",
    "plt_savefig(\"airport-to-delay_boxplot\")\n",
    "plt.show()"
   ]
  },
  {
   "cell_type": "code",
   "execution_count": null,
   "id": "aad3a8ae",
   "metadata": {},
   "outputs": [],
   "source": [
    "# Pivot-Tabelle für Heatmap\n",
    "route_delay = df.pivot_table(\n",
    "    index=\"ARRSTN\", columns=\"DEPSTN\", values=\"target\", aggfunc=\"mean\"\n",
    ")\n",
    "\n",
    "plt.figure(figsize=(12, 8))\n",
    "sns.heatmap(route_delay, cmap=\"Reds\", linewidths=0.5, annot=False)\n",
    "plt.title(\"Durchschnittliche Verspätung zwischen Abflug- und Ankunftsflughäfen\")\n",
    "plt.xlabel(\"Ankunftsflughafen\")\n",
    "plt.ylabel(\"Abflughafen\")\n",
    "plt.tight_layout()\n",
    "plt_savefig(\"dep-vs-dest-wrt-avg-delay_heatmap\")\n",
    "plt.show()"
   ]
  },
  {
   "cell_type": "code",
   "execution_count": null,
   "id": "83d28536",
   "metadata": {},
   "outputs": [],
   "source": [
    "df[df[\"DEPSTN\"] == \"TUN\"][\"target\"].hist(bins=30)\n",
    "plt.title(\"Verspätungsverteilung – Abflughafen TUN\")\n",
    "plt.xlabel(\"Verspätung in Minuten\")\n",
    "plt.ylabel(\"Anzahl Flüge\")\n",
    "plt_savefig(\"airport-to-delay-on-dest-eq-tun_boxplot\")\n",
    "plt.show()"
   ]
  },
  {
   "cell_type": "code",
   "execution_count": null,
   "id": "eaf5a395",
   "metadata": {},
   "outputs": [],
   "source": [
    "pivot = df.pivot_table(\n",
    "    index=\"DEPSTN\", columns=\"ARRSTN\", values=\"target\", aggfunc=\"mean\"\n",
    ")\n",
    "plt.figure(figsize=(12, 8))\n",
    "sns.heatmap(pivot, annot=False, cmap=\"Reds\")\n",
    "plt.title(\"Durchschnittliche Verspätung je Flugroute (in Minuten)\")\n",
    "plt.xlabel(\"Ankunftsflughafen\")\n",
    "plt.ylabel(\"Abflughafen\")\n",
    "plt_savefig(\"dep-vs-dest-wrt-delay_heatmap\")\n",
    "plt.show()"
   ]
  },
  {
   "cell_type": "code",
   "execution_count": null,
   "id": "0e666d43",
   "metadata": {},
   "outputs": [],
   "source": [
    "top_dep = df[\"DEPSTN\"].value_counts().head(10)\n",
    "avg_delay_dep = df.groupby(\"DEPSTN\")[\"target\"].mean().loc[top_dep.index]\n",
    "\n",
    "summary = pd.DataFrame({\"Fluganzahl\": top_dep, \"Ø Verspätung (Min.)\": avg_delay_dep})\n",
    "print(summary)"
   ]
  }
 ],
 "metadata": {
  "kernelspec": {
   "display_name": ".venv",
   "language": "python",
   "name": "python3"
  },
  "language_info": {
   "codemirror_mode": {
    "name": "ipython",
    "version": 3
   },
   "file_extension": ".py",
   "mimetype": "text/x-python",
   "name": "python",
   "nbconvert_exporter": "python",
   "pygments_lexer": "ipython3",
   "version": "3.11.3"
  }
 },
 "nbformat": 4,
 "nbformat_minor": 5
}
