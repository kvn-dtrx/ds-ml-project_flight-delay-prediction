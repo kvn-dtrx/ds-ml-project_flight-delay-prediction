{
 "cells": [
  {
   "cell_type": "markdown",
   "id": "2a1e254e",
   "metadata": {},
   "source": [
    "# Delay Modelling with CatBoost"
   ]
  },
  {
   "cell_type": "markdown",
   "id": "5f2a380a",
   "metadata": {},
   "source": [
    "## A Model Using CatBoost\n",
    "\n",
    "As among the features there are many categorical ones, we choose a method that claims to be suited for such situations ... CatBoost! It requires to specify which columns should be treated as categorical."
   ]
  },
  {
   "cell_type": "code",
   "execution_count": null,
   "id": "bdbf4703",
   "metadata": {},
   "outputs": [],
   "source": [
    "import os\n",
    "\n",
    "import pandas as pd\n",
    "\n",
    "from sklearn.model_selection import train_test_split\n",
    "from sklearn.model_selection import GridSearchCV\n",
    "from sklearn.metrics import mean_squared_error\n",
    "from sklearn.metrics import r2_score\n",
    "from sklearn.metrics import mean_absolute_percentage_error\n",
    "\n",
    "from catboost import CatBoostRegressor\n",
    "\n",
    "import matplotlib.pyplot as plt\n",
    "import seaborn as sns\n",
    "\n",
    "from local_nbutils import CFG, plt_savefig"
   ]
  },
  {
   "cell_type": "code",
   "execution_count": null,
   "id": "05d25402",
   "metadata": {},
   "outputs": [],
   "source": [
    "df = pd.read_pickle(CFG[\"PROCESSED_DATA_PATH\"])"
   ]
  },
  {
   "cell_type": "code",
   "execution_count": null,
   "id": "80901a56",
   "metadata": {},
   "outputs": [],
   "source": [
    "target_col = \"target\"\n",
    "feature_cols = [\n",
    "    \"STATUS\",\n",
    "    # \"FLTID\",\n",
    "    \"AC\",\n",
    "    \"flight_time\",\n",
    "    \"DEPSTN\", \n",
    "    \"ARRSTN\",\n",
    "    \"DATOP_year\", \n",
    "    \"DATOP_month\", \n",
    "    \"DATOP_day\",\n",
    "    # \"STD\",\n",
    "]\n",
    "\n",
    "cat_cols = [\n",
    "    \"STATUS\",\n",
    "    # \"FLTID\",\n",
    "    \"AC\",\n",
    "    # \"flight_time\",\n",
    "    \"DEPSTN\", \n",
    "    \"ARRSTN\",\n",
    "    \"DATOP_year\", \n",
    "    \"DATOP_month\", \n",
    "    \"DATOP_day\",\n",
    "    # \"STD\",\n",
    "]\n",
    "\n",
    "y = df[target_col]\n",
    "X = df[feature_cols]\n",
    "\n",
    "X_train, X_test, y_train, y_test = train_test_split(\n",
    "    X, y, test_size=0.2, random_state=CFG[\"RSEED\"]\n",
    ")"
   ]
  },
  {
   "cell_type": "markdown",
   "id": "9e9327e3",
   "metadata": {},
   "source": []
  },
  {
   "cell_type": "code",
   "execution_count": null,
   "id": "7f7f843b",
   "metadata": {},
   "outputs": [],
   "source": [
    "train_dir = os.path.join(CFG[\"LOGS_DIR\"], \"catboost\")\n",
    "\n",
    "model = CatBoostRegressor(\n",
    "    verbose=0,\n",
    "    train_dir=train_dir,\n",
    ")\n",
    "\n",
    "# Parameter grid for GridSearchCV\n",
    "param_grid = {\n",
    "    # # # Number of boosting rounds (trees). \n",
    "    # \"iterations\": [1000],\n",
    "\n",
    "    # Learning rate controls the step size in gradient descent.\n",
    "    # \"learning_rate\": [0.01],\n",
    "    \"learning_rate\": [0.1],\n",
    "    # Best learning rate around 0.1.\n",
    "\n",
    "    # Maximum depth of each decision tree.\n",
    "    # \"depth\": [4, 5, 6, 7, 8],\n",
    "    \"depth\": [10],\n",
    "    # Best depth between 8 and 10.\n",
    "\n",
    "    # Specifies the categorical columns in the dataset.\n",
    "    \"cat_features\": [cat_cols],\n",
    "}\n",
    "\n",
    "grid_search = GridSearchCV(\n",
    "    estimator=model,\n",
    "    param_grid=param_grid,\n",
    "    scoring=\"neg_mean_squared_error\",\n",
    "    cv=5, \n",
    "    verbose=0,\n",
    ")\n",
    "\n",
    "grid_search.fit(X, y)\n",
    "\n",
    "best_params = grid_search.best_params_\n",
    "print(\"Best parameters:\", grid_search.best_params_)\n",
    "\n",
    "best_model = grid_search.best_estimator_\n",
    "\n",
    "y_pred = best_model.predict(X_test)"
   ]
  },
  {
   "cell_type": "code",
   "execution_count": null,
   "id": "f94f1d3e",
   "metadata": {},
   "outputs": [],
   "source": [
    "rmse = mean_squared_error(y_test, y_pred, squared=False)\n",
    "r2 = r2_score(y_test, y_pred)\n",
    "mape = mean_absolute_percentage_error(y_test, y_pred)\n",
    "\n",
    "print(f\"RMSE: {rmse}\")\n",
    "print(f\"R_2: {r2}\")\n",
    "print(f\"MAP Error: {mape}\")\n",
    "\n",
    "t = 1000\n",
    "\n",
    "# Plot residuals\n",
    "plt.figure(figsize=(8, 6))\n",
    "sns.scatterplot(x=y_test, y=y_pred)\n",
    "plt.plot([0, t], [0, t], color=\"red\", linestyle=\"--\")\n",
    "plt.xlabel(\"Reality\")\n",
    "plt.ylabel(\"Prediction\")\n",
    "plt.xlim(0, 3000)\n",
    "plt.title(\"Real vs. Predicted Values\")\n",
    "plt_savefig(\"catboost_actual-vs-predicted_dist\")\n",
    "plt.show()"
   ]
  },
  {
   "cell_type": "code",
   "execution_count": null,
   "id": "3bc2d414",
   "metadata": {},
   "outputs": [],
   "source": [
    "is_y_test_below = (y_test <= 750).astype(bool)\n",
    "y_test_trim = y_test[is_y_test_below]\n",
    "y_pred_trim = y_pred[is_y_test_below]\n",
    "\n",
    "rmse = mean_squared_error(y_test_trim, y_pred_trim, squared=False)\n",
    "r2 = r2_score(y_test_trim, y_pred_trim)\n",
    "mape = mean_absolute_percentage_error(y_test_trim, y_pred_trim)\n",
    "\n",
    "print(f\"RMSE: {rmse}\")\n",
    "print(f\"R_2: {r2}\")\n",
    "print(f\"MAP Error: {mape}\")\n",
    "\n",
    "# Plot residuals\n",
    "plt.figure(figsize=(8, 6))\n",
    "sns.scatterplot(x=y_test_trim, y=y_pred_trim)\n",
    "plt.plot([0, t], [0, t], color=\"red\", linestyle=\"--\")\n",
    "plt.xlabel(\"Reality\")\n",
    "plt.ylabel(\"Prediction\")\n",
    "plt.xlim(0, 3000)\n",
    "plt.title(\"Real vs. Predicted Values\")\n",
    "plt_savefig(\"catboost_actual-vs-predicted_trim_dist\")\n",
    "plt.show()"
   ]
  }
 ],
 "metadata": {
  "kernelspec": {
   "display_name": ".venv",
   "language": "python",
   "name": "python3"
  },
  "language_info": {
   "codemirror_mode": {
    "name": "ipython",
    "version": 3
   },
   "file_extension": ".py",
   "mimetype": "text/x-python",
   "name": "python",
   "nbconvert_exporter": "python",
   "pygments_lexer": "ipython3",
   "version": "3.11.3"
  }
 },
 "nbformat": 4,
 "nbformat_minor": 5
}
