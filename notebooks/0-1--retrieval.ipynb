{
 "cells": [
  {
   "cell_type": "markdown",
   "id": "1783bb0d",
   "metadata": {},
   "source": [
    "# Retrieval\n",
    "\n",
    "This notebook only serves the purpose of retrieving, we only retrieve the data, or . We will employ the following modules:"
   ]
  },
  {
   "cell_type": "code",
   "execution_count": null,
   "id": "ba300a55",
   "metadata": {},
   "outputs": [],
   "source": [
    "import os\n",
    "import subprocess\n",
    "import shutil\n",
    "import requests\n",
    "import tempfile\n",
    "\n",
    "from local_nbutils import CFG"
   ]
  },
  {
   "cell_type": "markdown",
   "id": "e3f67fb3",
   "metadata": {},
   "source": [
    "Here `local_nbutils` is a custom module. \n",
    "Dont want to silence dynamic type checker `CFG` our configuration variables which we will use throughout the: "
   ]
  },
  {
   "cell_type": "code",
   "execution_count": null,
   "id": "00264856",
   "metadata": {},
   "outputs": [],
   "source": [
    "padding_length = max([len(k) for k in CFG])\n",
    "\n",
    "print(\"CFG Dictionary:\")\n",
    "for k, v in CFG.items():\n",
    "    print(f\"  {k:{padding_length}} : {v}\")"
   ]
  },
  {
   "cell_type": "markdown",
   "id": "17e67b91",
   "metadata": {},
   "source": [
    "## Flight Delay Data\n",
    "\n",
    "Contrary to e.g. [kaggle](https://www.kaggle.com), zindi provides no option to . Therefore, the easiest way to retrieve the data is to download them manually from [here](https://zindi.africa/competitions/flight-delay-prediction-challenge/data) (an account is necessary). Among the three offered files, only `train.csv` is relevant to us. Please store this file at the location `CFG[\" TRAIN_DATA_PATH\"]`."
   ]
  },
  {
   "cell_type": "markdown",
   "id": "c239d785",
   "metadata": {},
   "source": [
    "## Airport Data\n",
    "\n",
    "Next, let us specify all required configurations to have them in one place."
   ]
  },
  {
   "cell_type": "markdown",
   "id": "f3e80883",
   "metadata": {},
   "source": [
    "### HTTP Method"
   ]
  },
  {
   "cell_type": "code",
   "execution_count": null,
   "id": "dc4c84f0",
   "metadata": {},
   "outputs": [],
   "source": [
    "HTTP_REPO_URL = \"https://github.com/davidmegginson/ourairports-data\"\n",
    "CSV_PATH_REL = \"airports.csv\"\n",
    "AIRPORTS_DATA_PATH = CFG[\"AIRPORTS_DATA_PATH\"]\n",
    "\n",
    "http_url = f\"{HTTP_REPO_URL}/blob/main/{CSV_PATH_REL}\""
   ]
  },
  {
   "cell_type": "code",
   "execution_count": null,
   "id": "d46958ea",
   "metadata": {},
   "outputs": [],
   "source": [
    "response = requests.get(http_url)\n",
    "response.raise_for_status()\n",
    "\n",
    "with open(AIRPORTS_DATA_PATH, \"wb\") as f:\n",
    "    f.write(response.content)"
   ]
  },
  {
   "cell_type": "markdown",
   "id": "a9bbfb8e",
   "metadata": {},
   "source": [
    "### SSH Version\n",
    "\n",
    "For reasons of completeness\n",
    "Let us mention the way if there you need your  when you have to authenticate on github via ssh key!\n",
    "\n",
    "How to download single file from Github.\n",
    "\n",
    "Note that the referenced repository is not public. You need to authenticate with ssh!"
   ]
  },
  {
   "cell_type": "code",
   "execution_count": null,
   "id": "42eca0f6",
   "metadata": {},
   "outputs": [],
   "source": [
    "SSH_REPO_URL = \"git@github.com:davidmegginson/ourairports-data.git\"\n",
    "CSV_PATH_REL = \"airports.csv\""
   ]
  },
  {
   "cell_type": "code",
   "execution_count": null,
   "id": "2a4479f7",
   "metadata": {},
   "outputs": [],
   "source": [
    "with tempfile.TemporaryDirectory() as tmpdir: \n",
    "    subprocess.run([\n",
    "        \"git\", \"clone\",\n",
    "        # Clones shallowly.\n",
    "        \"--depth\", \"1\",\n",
    "        # Skips blobs initially.\n",
    "        \"--filter=blob:none\",\n",
    "        # Enables sparse checkout mode \n",
    "        \"--sparse\", \n",
    "        SSH_REPO_URL, tmpdir\n",
    "    ], check=True)\n",
    "    \n",
    "    subprocess.run([\n",
    "        # Runs git commands in the cloned repo directory.\n",
    "        \"git\", \"-C\", tmpdir, \n",
    "        # Initialises sparse checkout.\n",
    "        \"sparse-checkout\", \"init\",\n",
    "    ], check=True)\n",
    "    \n",
    "    subprocess.run([\n",
    "        # Runs git commands in the cloned repo directory.\n",
    "        \"git\", \"-C\", tmpdir,\n",
    "        # Specifies which files to include in the sparse checkout.\n",
    "        \"sparse-checkout\", \"set\", CSV_PATH_REL,\n",
    "        # Relaxes the checks as sparse-checkout expects directories.\n",
    "        \"--skip-checks\", \n",
    "    ], check=True)\n",
    "    \n",
    "    src_file = os.path.join(tmpdir, CSV_PATH_REL)\n",
    "    shutil.copy2(src_file, AIRPORTS_DATA_PATH)"
   ]
  }
 ],
 "metadata": {
  "kernelspec": {
   "display_name": ".venv",
   "language": "python",
   "name": "python3"
  },
  "language_info": {
   "codemirror_mode": {
    "name": "ipython",
    "version": 3
   },
   "file_extension": ".py",
   "mimetype": "text/x-python",
   "name": "python",
   "nbconvert_exporter": "python",
   "pygments_lexer": "ipython3",
   "version": "3.11.3"
  }
 },
 "nbformat": 4,
 "nbformat_minor": 5
}
