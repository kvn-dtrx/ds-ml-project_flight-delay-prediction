{
 "cells": [
  {
   "cell_type": "markdown",
   "id": "1783bb0d",
   "metadata": {},
   "source": [
    "# Retrieval"
   ]
  },
  {
   "cell_type": "markdown",
   "id": "17e67b91",
   "metadata": {},
   "source": [
    "## Requirements\n",
    "\n",
    "\n",
    "Dont want provoke dynamic type checker\n",
    "\n",
    "\n",
    "Must be downloaded by hand"
   ]
  },
  {
   "cell_type": "code",
   "execution_count": null,
   "id": "ba300a55",
   "metadata": {},
   "outputs": [],
   "source": [
    "import os\n",
    "import subprocess\n",
    "import requests\n",
    "\n",
    "from local_nbutils.cfg import CFG"
   ]
  },
  {
   "cell_type": "code",
   "execution_count": null,
   "id": "00264856",
   "metadata": {},
   "outputs": [],
   "source": [
    "padding_length = max([len(k) for k in CFG])\n",
    "\n",
    "print(\"CFG Dictionary:\")\n",
    "for k, v in CFG.items():\n",
    "    print(f\"{k:{padding_length}} : {v}\")"
   ]
  },
  {
   "cell_type": "markdown",
   "id": "c239d785",
   "metadata": {},
   "source": [
    "# Configs\n",
    "\n",
    "Next, let us specify all required configurations to have them in one place."
   ]
  },
  {
   "cell_type": "code",
   "execution_count": null,
   "id": "dc4c84f0",
   "metadata": {},
   "outputs": [],
   "source": [
    "URL = \"https://davidmegginson.github.io/ourairports-data/airports.csv\"\n",
    "AIRPORTS_DATA_PATH = CFG[\"AIRPORTS_DATA_PATH\"]"
   ]
  },
  {
   "cell_type": "markdown",
   "id": "ca832ba1",
   "metadata": {},
   "source": [
    "Download of airport data"
   ]
  },
  {
   "cell_type": "code",
   "execution_count": null,
   "id": "d46958ea",
   "metadata": {},
   "outputs": [],
   "source": [
    "response = requests.get(URL)\n",
    "response.raise_for_status()\n",
    "\n",
    "with open(AIRPORTS_DATA_PATH, \"wb\") as f:\n",
    "    f.write(response.content)"
   ]
  },
  {
   "cell_type": "markdown",
   "id": "a9bbfb8e",
   "metadata": {},
   "source": [
    "# Data Retrieval (GitHub Version)\n",
    "\n",
    "Let us mention the way if there you need your ssh key!\n",
    "\n",
    "For completeness, let us briefly sketch how the data would be downloaded (but as csv file) from [kaggle](https://www.kaggle.com). To that end, kaggle API credentials are required (such credential can be created on <https://www.kaggle.com/settings>)."
   ]
  },
  {
   "cell_type": "markdown",
   "id": "16bc6232",
   "metadata": {},
   "source": [
    "We need the following functionality:"
   ]
  },
  {
   "cell_type": "code",
   "execution_count": null,
   "id": "b102c3e1",
   "metadata": {},
   "outputs": [],
   "source": [
    "import os\n",
    "import shutil\n",
    "import subprocess\n",
    "import tempfile"
   ]
  },
  {
   "cell_type": "markdown",
   "id": "55300425",
   "metadata": {},
   "source": [
    "Let us specify which dataset we concretely want to download and where we want to put it:"
   ]
  },
  {
   "cell_type": "code",
   "execution_count": null,
   "id": "36466e07",
   "metadata": {},
   "outputs": [],
   "source": [
    "# Path to root directory of the repo\n",
    "root_dir_ = subprocess.check_output(\n",
    "    [\"git\", \"rev-parse\", \"--show-toplevel\"],\n",
    "    text=True,\n",
    ")\n",
    "ROOT_DIR = root_dir_.strip()\n",
    "# Path to data directory\n",
    "DATA_DIR = os.path.join(ROOT_DIR, \"data\")\n",
    "# Paths to which dataframe will be saved\n",
    "DF_CSV_PATH = os.path.join(DATA_DIR, \"df.csv\") \n",
    "\n",
    "REPO_URL = \"git@github.com:neuefische/ds-diabetes-challenge.git\"\n",
    "CSV_PATH_REL = \"data/titanic.csv\""
   ]
  },
  {
   "cell_type": "markdown",
   "id": "42eca0f6",
   "metadata": {},
   "source": [
    "Note that the referenced repository is not public. You need to authenticate with ssh!"
   ]
  },
  {
   "cell_type": "code",
   "execution_count": null,
   "id": "2a4479f7",
   "metadata": {},
   "outputs": [],
   "source": [
    "with tempfile.TemporaryDirectory() as tmpdir: \n",
    "    subprocess.run([\n",
    "        \"git\", \"clone\",\n",
    "        # Clones shallowly.\n",
    "        \"--depth\", \"1\",\n",
    "        # Skips blobs initially.\n",
    "        \"--filter=blob:none\",\n",
    "        # Enables sparse checkout mode \n",
    "        \"--sparse\", \n",
    "        REPO_URL, tmpdir\n",
    "    ], check=True)\n",
    "    \n",
    "    subprocess.run([\n",
    "        # Runs git commands in the cloned repo directory.\n",
    "        \"git\", \"-C\", tmpdir, \n",
    "        # Initialises sparse checkout.\n",
    "        \"sparse-checkout\", \"init\",\n",
    "    ], check=True)\n",
    "    \n",
    "    subprocess.run([\n",
    "        # Runs git commands in the cloned repo directory.\n",
    "        \"git\", \"-C\", tmpdir,\n",
    "        # Specifies which files to include in the sparse checkout.\n",
    "        \"sparse-checkout\", \"set\", CSV_PATH_REL,\n",
    "        # Relaxes the checks as sparse-checkout expects directories.\n",
    "        \"--skip-checks\", \n",
    "    ], check=True)\n",
    "    \n",
    "    src_file = os.path.join(tmpdir, CSV_PATH_REL)\n",
    "    shutil.copy2(src_file, DF_CSV_PATH)"
   ]
  }
 ],
 "metadata": {
  "kernelspec": {
   "display_name": ".venv",
   "language": "python",
   "name": "python3"
  },
  "language_info": {
   "codemirror_mode": {
    "name": "ipython",
    "version": 3
   },
   "file_extension": ".py",
   "mimetype": "text/x-python",
   "name": "python",
   "nbconvert_exporter": "python",
   "pygments_lexer": "ipython3",
   "version": "3.11.3"
  }
 },
 "nbformat": 4,
 "nbformat_minor": 5
}
