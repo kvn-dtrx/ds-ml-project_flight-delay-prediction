{
 "cells": [
  {
   "cell_type": "markdown",
   "id": "097557eb",
   "metadata": {},
   "source": [
    "# Preliminaries\n",
    "\n",
    "In this small file, we explain briefly how we organise our notebooks. Throughout all notebooks, we will make use of a custom module:"
   ]
  },
  {
   "cell_type": "code",
   "execution_count": null,
   "id": "b1129cff",
   "metadata": {},
   "outputs": [],
   "source": [
    "import local_nbutils"
   ]
  },
  {
   "cell_type": "markdown",
   "id": "72e3a21a",
   "metadata": {},
   "source": [
    "It contains a configuration dictionary named `CFG` that containing global environment variables. It will ease the process of storing and loading data between notebooks."
   ]
  },
  {
   "cell_type": "code",
   "execution_count": null,
   "id": "00842edb",
   "metadata": {},
   "outputs": [],
   "source": [
    "CFG = local_nbutils.CFG\n",
    "\n",
    "padding_length = max([len(k) for k in CFG])\n",
    "\n",
    "print(\"CFG Dictionary:\")\n",
    "for k, v in CFG.items():\n",
    "    print(f\"  {k:{padding_length}} : {v}\")"
   ]
  },
  {
   "cell_type": "markdown",
   "id": "2ba503a2",
   "metadata": {},
   "source": [
    "Furthermore, the module provides a function named `plt_savefig` that allows storing plots created by Matplotlib conveniently to disk."
   ]
  },
  {
   "cell_type": "markdown",
   "id": "0cf79e22",
   "metadata": {},
   "source": [
    "At last, let us outline what our notebooks contain and which data they require, respectively:\n",
    "\n",
    "- `0-1--preliminaries.ipynb`: Present notebook.\n",
    "- `0-2--retrieval.ipynb`: Tells how to download `train.csv` (`CFG[\"TRAIN_DATA_PATH\"]`) and downloads `airports.csv` (`CFG[\"AIRPORTS_DATA_PATH\"]`). Both files are required for the next notebook.\n",
    "- `1-1--eda-basic.ipynb`: Basic exploratory data analysis. Creates a processed data frame `df.pkl` (`CFG[\"PROCESSED_DATA_PATH\"]`) at the end. This file is required for all remaining notebooks.\n",
    "- `1-*--eda-add_*.ipynb`: Additional exploratory data analysis, independent from each other.\n",
    "- `2-*--model_*.ipynb`: Machine Learning models, independent from each other."
   ]
  }
 ],
 "metadata": {
  "language_info": {
   "name": "python"
  }
 },
 "nbformat": 4,
 "nbformat_minor": 5
}
