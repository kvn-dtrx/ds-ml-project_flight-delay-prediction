{
 "cells": [
  {
   "cell_type": "code",
   "execution_count": null,
   "metadata": {},
   "outputs": [],
   "source": [
    "import numpy as np\n",
    "import pandas as pd\n",
    "import matplotlib.pyplot as plt\n",
    "import seaborn as sns\n",
    "\n",
    "import missingno as msno\n",
    "import scipy.stats as stats\n",
    "\n",
    "from sklearn.preprocessing import StandardScaler\n",
    "from sklearn.preprocessing import MinMaxScaler\n",
    "\n",
    "from sklearn.model_selection import train_test_split, cross_val_score\n",
    "\n",
    "import warnings\n",
    "warnings.filterwarnings('ignore')\n",
    "\n",
    "RSEED = 25\n",
    "\n"
   ]
  },
  {
   "cell_type": "code",
   "execution_count": null,
   "metadata": {},
   "outputs": [],
   "source": [
    "df = pd.read_csv(\"data/train.csv\")"
   ]
  },
  {
   "cell_type": "code",
   "execution_count": null,
   "metadata": {},
   "outputs": [],
   "source": [
    "print(df.head())\n",
    "print(df.shape)\n",
    "print(df.isnull().sum())\n",
    "print(df.dtypes)"
   ]
  },
  {
   "cell_type": "code",
   "execution_count": null,
   "metadata": {},
   "outputs": [],
   "source": [
    "df.nunique()\n",
    "#df['AC'].unique()"
   ]
  },
  {
   "cell_type": "code",
   "execution_count": null,
   "metadata": {},
   "outputs": [],
   "source": [
    "print(df['STATUS'].unique())\n",
    "\n",
    "col_entries = ['ATA', 'DEP', 'RTR', 'SCH', 'DEL']\n",
    "\n",
    "for i in col_entries:\n",
    "    print(f\"Number of entries of {i}: {df[df['STATUS'] == i].shape[0]}\")\n",
    "    print(f\"Mean: {df[df['STATUS'] == i]['target'].mean()}\")\n",
    "    print(f\"Median: {df[df['STATUS'] == i]['target'].median()}\")\n",
    "\n"
   ]
  },
  {
   "cell_type": "code",
   "execution_count": null,
   "metadata": {},
   "outputs": [],
   "source": [
    "df['STA'] = df['STA'].str.replace('.',':')"
   ]
  },
  {
   "cell_type": "code",
   "execution_count": null,
   "metadata": {},
   "outputs": [],
   "source": [
    "df['target'].hist(bins = 50, log =True)"
   ]
  },
  {
   "cell_type": "code",
   "execution_count": null,
   "metadata": {},
   "outputs": [],
   "source": [
    "df.head(20)"
   ]
  },
  {
   "cell_type": "code",
   "execution_count": null,
   "metadata": {},
   "outputs": [],
   "source": [
    "df['DATOP'] = pd.to_datetime(df['DATOP'], format='%Y-%m-%d')\n",
    "df['STD'] = pd.to_datetime(df['STD'], format='%Y-%m-%d %H:%M:%S')\n",
    "df['STA'] = pd.to_datetime(df['STA'], format='%Y-%m-%d %H:%M:%S')"
   ]
  },
  {
   "cell_type": "code",
   "execution_count": null,
   "metadata": {},
   "outputs": [],
   "source": [
    "# extract year, month, dayofweek and hour information out of column publish_time and build new column for each\n",
    "df[\"DATOP_year\"]=df[\"DATOP\"].dt.year\n",
    "df[\"DATOP_month\"]=df[\"DATOP\"].dt.month\n",
    "df[\"DATOP_day\"]=df[\"DATOP\"].dt.dayofweek+1\n",
    "#df[\"publish_hour\"]=df[\"publish_time\"].dt.hour"
   ]
  },
  {
   "cell_type": "code",
   "execution_count": null,
   "metadata": {},
   "outputs": [],
   "source": [
    "df['flight_time'] = (df['STA'] - df['STD']).dt.total_seconds() / 60"
   ]
  },
  {
   "cell_type": "code",
   "execution_count": null,
   "metadata": {},
   "outputs": [],
   "source": [
    "df.head()"
   ]
  },
  {
   "cell_type": "code",
   "execution_count": null,
   "metadata": {},
   "outputs": [],
   "source": [
    "print(df['DATOP_year'].unique())\n",
    "\n",
    "col_entries = [2016, 2017, 2018]\n",
    "\n",
    "for i in col_entries:\n",
    "    plt.figure(figsize=(8, 4))\n",
    "    df_year = df[df['DATOP_year'] == i]\n",
    "    df_year['DATOP_month'].hist(bins=12)\n",
    "    plt.title(f\"Flight Distribution per Month – {i}\")\n",
    "    plt.xlabel(\"Month\")\n",
    "    plt.ylabel(\"Number of Flights\")\n",
    "    plt.xticks(range(1, 13))\n",
    "    plt.tight_layout()\n",
    "    plt.show()"
   ]
  },
  {
   "cell_type": "code",
   "execution_count": null,
   "metadata": {},
   "outputs": [],
   "source": [
    "print(df['DATOP_year'].unique())\n",
    "\n",
    "col_entries = [2016, 2017, 2018]\n",
    "\n",
    "for i in col_entries:\n",
    "    plt.figure(figsize=(8, 4))\n",
    "    df_year = df[df['DATOP_year'] == i]\n",
    "    df_year.groupby('DATOP_month')['target'].sum().plot(\n",
    "    kind='line', \n",
    "    title=f'Monthly Sum of Target for {i}', \n",
    "    xlabel='Month', \n",
    "    ylabel='Sum of Target'\n",
    ")"
   ]
  },
  {
   "cell_type": "code",
   "execution_count": null,
   "metadata": {},
   "outputs": [],
   "source": [
    "y = df.target\n",
    "X = df.drop('target', axis=1)\n",
    "\n",
    "X_train, X_test, y_train, y_test = train_test_split(X, y, test_size=0.25, random_state=RSEED)"
   ]
  }
 ],
 "metadata": {
  "kernelspec": {
   "display_name": ".venv",
   "language": "python",
   "name": "python3"
  },
  "language_info": {
   "codemirror_mode": {
    "name": "ipython",
    "version": 3
   },
   "file_extension": ".py",
   "mimetype": "text/x-python",
   "name": "python",
   "nbconvert_exporter": "python",
   "pygments_lexer": "ipython3",
   "version": "3.11.3"
  }
 },
 "nbformat": 4,
 "nbformat_minor": 4
}
