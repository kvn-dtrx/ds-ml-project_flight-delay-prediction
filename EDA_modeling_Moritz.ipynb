{
 "cells": [
  {
   "cell_type": "code",
   "execution_count": null,
   "metadata": {},
   "outputs": [],
   "source": [
    "import numpy as np\n",
    "import pandas as pd\n",
    "import matplotlib.pyplot as plt\n",
    "import seaborn as sns\n",
    "\n",
    "import missingno as msno\n",
    "import scipy.stats as stats\n",
    "\n",
    "from sklearn.preprocessing import StandardScaler\n",
    "from sklearn.preprocessing import MinMaxScaler\n",
    "\n",
    "from sklearn.model_selection import train_test_split, cross_val_score\n",
    "\n",
    "import warnings\n",
    "warnings.filterwarnings('ignore')\n",
    "\n",
    "RSEED = 25\n",
    "\n"
   ]
  },
  {
   "cell_type": "code",
   "execution_count": null,
   "metadata": {},
   "outputs": [],
   "source": [
    "df = pd.read_csv(\"data/train.csv\")"
   ]
  },
  {
   "cell_type": "code",
   "execution_count": null,
   "metadata": {},
   "outputs": [],
   "source": [
    "print(df.head())\n",
    "print(df.shape)\n",
    "print(df.isnull().sum())\n",
    "print(df.dtypes)\n",
    "df.nunique()"
   ]
  },
  {
   "cell_type": "code",
   "execution_count": null,
   "metadata": {},
   "outputs": [],
   "source": [
    "df['route'] = df['DEPSTN'] + '-' + df['ARRSTN']"
   ]
  },
  {
   "cell_type": "code",
   "execution_count": null,
   "metadata": {},
   "outputs": [],
   "source": [
    "df.plot(x= 'route',y='target', kind='scatter')"
   ]
  },
  {
   "cell_type": "code",
   "execution_count": null,
   "metadata": {},
   "outputs": [],
   "source": [
    "print(df['STATUS'].unique())\n",
    "\n",
    "col_entries = ['ATA', 'DEP', 'RTR', 'SCH', 'DEL']\n",
    "\n",
    "for i in col_entries:\n",
    "    print(f\"Number of entries of {i}: {df[df['STATUS'] == i].shape[0]}\")\n",
    "    print(f\"Mean: {df[df['STATUS'] == i]['target'].mean()}\")\n",
    "    print(f\"Median: {df[df['STATUS'] == i]['target'].median()}\")"
   ]
  },
  {
   "cell_type": "code",
   "execution_count": null,
   "metadata": {},
   "outputs": [],
   "source": [
    "df['STA'] = df['STA'].str.replace('.',':')"
   ]
  },
  {
   "cell_type": "code",
   "execution_count": null,
   "metadata": {},
   "outputs": [],
   "source": [
    "df['target'].hist(bins = 50, log =True)"
   ]
  },
  {
   "cell_type": "code",
   "execution_count": null,
   "metadata": {},
   "outputs": [],
   "source": [
    "df.head(20)"
   ]
  },
  {
   "cell_type": "code",
   "execution_count": null,
   "metadata": {},
   "outputs": [],
   "source": [
    "df['DATOP'] = pd.to_datetime(df['DATOP'], format='%Y-%m-%d')\n",
    "df['STD'] = pd.to_datetime(df['STD'], format='%Y-%m-%d %H:%M:%S')\n",
    "df['STA'] = pd.to_datetime(df['STA'], format='%Y-%m-%d %H:%M:%S')"
   ]
  },
  {
   "cell_type": "code",
   "execution_count": null,
   "metadata": {},
   "outputs": [],
   "source": [
    "# extract year, month, dayofweek and hour information out of column publish_time and build new column for each\n",
    "df[\"DATOP_year\"]=df[\"DATOP\"].dt.year\n",
    "df[\"DATOP_month\"]=df[\"DATOP\"].dt.month\n",
    "df[\"DATOP_day\"]=df[\"DATOP\"].dt.dayofweek+1\n",
    "#df[\"publish_hour\"]=df[\"publish_time\"].dt.hour"
   ]
  },
  {
   "cell_type": "code",
   "execution_count": null,
   "metadata": {},
   "outputs": [],
   "source": [
    "df['flight_time'] = (df['STA'] - df['STD']).dt.total_seconds() / 60"
   ]
  },
  {
   "cell_type": "code",
   "execution_count": null,
   "metadata": {},
   "outputs": [],
   "source": [
    "df.head()"
   ]
  },
  {
   "cell_type": "code",
   "execution_count": null,
   "metadata": {},
   "outputs": [],
   "source": [
    "print(df['DATOP_year'].unique())\n",
    "\n",
    "col_entries = [2016, 2017, 2018]\n",
    "\n",
    "for i in col_entries:\n",
    "    plt.figure(figsize=(8, 4))\n",
    "    df_year = df[df['DATOP_year'] == i]\n",
    "    df_year['DATOP_month'].hist(bins=12)\n",
    "    plt.title(f\"Flight Distribution per Month – {i}\")\n",
    "    plt.xlabel(\"Month\")\n",
    "    plt.ylabel(\"Number of Flights\")\n",
    "    plt.xticks(range(1, 13))\n",
    "    plt.tight_layout()\n",
    "    plt.show()"
   ]
  },
  {
   "cell_type": "code",
   "execution_count": null,
   "metadata": {},
   "outputs": [],
   "source": [
    "print(df['DATOP_year'].unique())\n",
    "\n",
    "col_entries = [2016, 2017, 2018]\n",
    "\n",
    "for i in col_entries:\n",
    "    plt.figure(figsize=(8, 4))\n",
    "    df_year = df[df['DATOP_year'] == i]\n",
    "    df_year.groupby('DATOP_month')['target'].sum().plot(\n",
    "    kind='line', \n",
    "    title=f'Monthly Sum of Target for {i}', \n",
    "    xlabel='Month', \n",
    "    ylabel='Sum of Target'\n",
    ")"
   ]
  },
  {
   "cell_type": "code",
   "execution_count": null,
   "metadata": {},
   "outputs": [],
   "source": [
    "df2 = pd.get_dummies(df, columns=['DATOP_day'], prefix='day', drop_first=True, dtype=int)\n",
    "df2 = pd.get_dummies(df2, columns=['DATOP_year'], prefix='yr', drop_first=True, dtype=int)\n",
    "df2 = pd.get_dummies(df2, columns=['DATOP_month'], prefix='mon', drop_first=True, dtype=int)\n",
    "df2 = pd.get_dummies(df2, columns=['DEPSTN'], prefix='dep', drop_first=True, dtype=int)\n",
    "df2 = pd.get_dummies(df2, columns=['ARRSTN'], prefix='arr', drop_first=True, dtype=int)\n",
    "df2 = pd.get_dummies(df2, columns=['AC'], prefix='ac', drop_first=True, dtype=int)\n",
    "\n"
   ]
  },
  {
   "cell_type": "code",
   "execution_count": null,
   "metadata": {},
   "outputs": [],
   "source": [
    "df2.head()"
   ]
  },
  {
   "cell_type": "code",
   "execution_count": null,
   "metadata": {},
   "outputs": [],
   "source": [
    "y = df2.target\n",
    "X = df2.drop('target', axis=1)\n",
    "\n",
    "X_train, X_test, y_train, y_test = train_test_split(X, y, test_size=0.25, random_state=RSEED)"
   ]
  },
  {
   "cell_type": "code",
   "execution_count": null,
   "metadata": {},
   "outputs": [],
   "source": [
    "y_train.hist(bins = 50, log =True)\n",
    "y_test.hist(bins = 50, log =True)"
   ]
  },
  {
   "cell_type": "code",
   "execution_count": null,
   "metadata": {},
   "outputs": [],
   "source": [
    "df2.head()"
   ]
  },
  {
   "cell_type": "markdown",
   "metadata": {},
   "source": [
    "Moritz - Add weekday to model"
   ]
  },
  {
   "cell_type": "markdown",
   "metadata": {},
   "source": [
    "- Weekday vs delay"
   ]
  },
  {
   "cell_type": "code",
   "execution_count": null,
   "metadata": {},
   "outputs": [],
   "source": [
    "try1 = df.groupby('DATOP_day')['target'].sum()\n",
    "try2 = df.groupby('DATOP_day')['ID'].count()\n",
    "try1.corr(try2)"
   ]
  },
  {
   "cell_type": "code",
   "execution_count": null,
   "metadata": {},
   "outputs": [],
   "source": [
    "grouped = df.groupby(['DATOP_year', 'DATOP_day'])['target'].sum().unstack(level=0)\n",
    "\n",
    "grouped.plot(kind='line', figsize=(10, 6))\n",
    "plt.xlabel('Day of Week')\n",
    "plt.ylabel('Sum of hours delay')\n",
    "plt.title('Hours delay per weekday by year')\n",
    "plt.legend(title='Year')\n",
    "plt.grid(True)\n",
    "plt.show()"
   ]
  },
  {
   "cell_type": "code",
   "execution_count": null,
   "metadata": {},
   "outputs": [],
   "source": [
    "grouped = df.groupby(['DATOP_year', 'DATOP_day'])['ID'].count().unstack(level=0)\n",
    "\n",
    "grouped.plot(kind='line', figsize=(10, 6))\n",
    "plt.xlabel('Day of Week')\n",
    "plt.ylabel('Number of Flights')\n",
    "plt.title('Number of flights per weekday by Year')\n",
    "plt.legend(title='Year')\n",
    "plt.grid(True)\n",
    "plt.show()"
   ]
  },
  {
   "cell_type": "code",
   "execution_count": null,
   "metadata": {},
   "outputs": [],
   "source": [
    "from sklearn.linear_model import LinearRegression\n",
    "from sklearn.preprocessing import PolynomialFeatures\n",
    "from sklearn.neighbors import KNeighborsRegressor\n",
    "from sklearn.ensemble import RandomForestRegressor\n",
    "#from xgboost import XGBClassifier\n",
    "\n",
    "from sklearn.model_selection import GridSearchCV, RandomizedSearchCV\n",
    "from sklearn.model_selection import train_test_split\n",
    "from sklearn.metrics import mean_squared_error, r2_score"
   ]
  },
  {
   "cell_type": "code",
   "execution_count": null,
   "metadata": {},
   "outputs": [],
   "source": [
    "df2.head()"
   ]
  },
  {
   "cell_type": "code",
   "execution_count": null,
   "metadata": {},
   "outputs": [],
   "source": [
    "prefixes = ['day_', 'yr_', 'mt_','ac_','dep_','arr_']\n",
    "\n",
    "# Collect columns that match those prefixes\n",
    "feature_cols = [col for col in df2.columns if any(col.startswith(p) for p in prefixes)]+['flight_time']\n",
    "\n",
    "x0 = X_train[feature_cols]\n",
    "x1 = X_test[feature_cols]\n",
    "\n",
    "\n",
    "model = LinearRegression()\n",
    "#model = KNeighborsRegressor(n_neighbors=5)\n",
    "\n",
    "model.fit(x0, y_train)\n",
    "y_pred_test = model.predict(x1)\n",
    "\n",
    "print(np.sqrt(mean_squared_error(y_test, y_pred_test)))\n",
    "print(r2_score(y_test, y_pred_test))"
   ]
  },
  {
   "cell_type": "code",
   "execution_count": null,
   "metadata": {},
   "outputs": [],
   "source": [
    "df.columns"
   ]
  },
  {
   "cell_type": "code",
   "execution_count": null,
   "metadata": {},
   "outputs": [],
   "source": [
    "df.plot(x='flight_time', y = 'target', kind =\"scatter\")\n",
    "\n",
    "plt.xlim(0, 1000)\n",
    "\n",
    "plt.show()"
   ]
  }
 ],
 "metadata": {
  "kernelspec": {
   "display_name": "Python 3",
   "language": "python",
   "name": "python3"
  },
  "language_info": {
   "codemirror_mode": {
    "name": "ipython",
    "version": 3
   },
   "file_extension": ".py",
   "mimetype": "text/x-python",
   "name": "python",
   "nbconvert_exporter": "python",
   "pygments_lexer": "ipython3",
   "version": "3.11.3"
  }
 },
 "nbformat": 4,
 "nbformat_minor": 4
}
